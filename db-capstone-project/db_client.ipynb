{
 "cells": [
  {
   "cell_type": "code",
   "execution_count": 1,
   "id": "7f6272b7",
   "metadata": {},
   "outputs": [],
   "source": [
    "import mysql.connector as connector"
   ]
  },
  {
   "cell_type": "code",
   "execution_count": 2,
   "id": "10bb0305",
   "metadata": {},
   "outputs": [],
   "source": [
    "pswd='xsw888888'"
   ]
  },
  {
   "cell_type": "code",
   "execution_count": 13,
   "id": "5eb6cf13",
   "metadata": {},
   "outputs": [],
   "source": [
    "connection=connector.connect(user=\"root\",\n",
    "                             password=pswd,\n",
    "                            database=\"LittleLemonDM\")"
   ]
  },
  {
   "cell_type": "code",
   "execution_count": 14,
   "id": "8fcaade0",
   "metadata": {},
   "outputs": [],
   "source": [
    "cursor = connection.cursor(buffered=True)"
   ]
  },
  {
   "cell_type": "code",
   "execution_count": 26,
   "id": "40f41386",
   "metadata": {},
   "outputs": [],
   "source": [
    "cursor.execute(\"SELECT * FROM Bookings;\")"
   ]
  },
  {
   "cell_type": "code",
   "execution_count": 27,
   "id": "4b9e0bd0",
   "metadata": {},
   "outputs": [
    {
     "name": "stdout",
     "output_type": "stream",
     "text": [
      "(1, datetime.datetime(2022, 10, 10, 0, 0), 5, '1')\n",
      "(2, datetime.datetime(2022, 11, 12, 0, 0), 3, '3')\n",
      "(3, datetime.datetime(2022, 10, 11, 0, 0), 2, '2')\n",
      "(4, datetime.datetime(2022, 10, 13, 0, 0), 2, '1')\n",
      "(5, datetime.datetime(2022, 11, 20, 0, 0), 5, '4')\n",
      "(99, datetime.datetime(2022, 12, 10, 0, 0), 99, '99')\n"
     ]
    }
   ],
   "source": [
    "results = cursor.fetchall()\n",
    "for i in results:\n",
    "    print(i)"
   ]
  },
  {
   "cell_type": "code",
   "execution_count": 9,
   "id": "4ba83ff4",
   "metadata": {},
   "outputs": [
    {
     "data": {
      "text/plain": [
       "()"
      ]
     },
     "execution_count": 9,
     "metadata": {},
     "output_type": "execute_result"
    }
   ],
   "source": [
    "cursor.callproc(\"GetMaxQuantity\")"
   ]
  },
  {
   "cell_type": "code",
   "execution_count": 10,
   "id": "922e1e70",
   "metadata": {},
   "outputs": [
    {
     "name": "stdout",
     "output_type": "stream",
     "text": [
      "['MAX(Quantity)']\n",
      "(5,)\n"
     ]
    }
   ],
   "source": [
    "results = next(cursor.stored_results())\n",
    "dataset= results.fetchall()\n",
    "\n",
    "for column_id in cursor.stored_results():\n",
    "    col = [column[0] for column in column_id.description]\n",
    "print(col)\n",
    "for data in dataset:\n",
    "    print(data)"
   ]
  },
  {
   "cell_type": "code",
   "execution_count": 24,
   "id": "1c139423",
   "metadata": {},
   "outputs": [
    {
     "data": {
      "text/plain": [
       "(99, 99, '2022-12-10', 99)"
      ]
     },
     "execution_count": 24,
     "metadata": {},
     "output_type": "execute_result"
    }
   ],
   "source": [
    "cursor.callproc(\"AddBooking\",[99,99,'2022-12-10',99])"
   ]
  },
  {
   "cell_type": "code",
   "execution_count": 25,
   "id": "f60c4a64",
   "metadata": {},
   "outputs": [
    {
     "name": "stdout",
     "output_type": "stream",
     "text": [
      "['result']\n",
      "('New booking added.',)\n"
     ]
    }
   ],
   "source": [
    "results = next(cursor.stored_results())\n",
    "dataset= results.fetchall()\n",
    "\n",
    "for column_id in cursor.stored_results():\n",
    "    col = [column[0] for column in column_id.description]\n",
    "print(col)\n",
    "for data in dataset:\n",
    "    print(data)"
   ]
  },
  {
   "cell_type": "code",
   "execution_count": 28,
   "id": "8158c3ac",
   "metadata": {},
   "outputs": [
    {
     "data": {
      "text/plain": [
       "(99, '2022-01-10', 99)"
      ]
     },
     "execution_count": 28,
     "metadata": {},
     "output_type": "execute_result"
    }
   ],
   "source": [
    "cursor.callproc(\"UpdateBooking\",[99,'2022-01-10',99])"
   ]
  },
  {
   "cell_type": "code",
   "execution_count": 29,
   "id": "3b8f3372",
   "metadata": {},
   "outputs": [
    {
     "name": "stdout",
     "output_type": "stream",
     "text": [
      "['result']\n",
      "('New booking updated.',)\n"
     ]
    }
   ],
   "source": [
    "results = next(cursor.stored_results())\n",
    "dataset= results.fetchall()\n",
    "\n",
    "for column_id in cursor.stored_results():\n",
    "    col = [column[0] for column in column_id.description]\n",
    "print(col)\n",
    "for data in dataset:\n",
    "    print(data)"
   ]
  },
  {
   "cell_type": "code",
   "execution_count": 30,
   "id": "744efd65",
   "metadata": {},
   "outputs": [
    {
     "data": {
      "text/plain": [
       "(99, 99)"
      ]
     },
     "execution_count": 30,
     "metadata": {},
     "output_type": "execute_result"
    }
   ],
   "source": [
    "cursor.callproc(\"CancelBooking\",[99,99])"
   ]
  },
  {
   "cell_type": "code",
   "execution_count": 31,
   "id": "88cb59c9",
   "metadata": {},
   "outputs": [
    {
     "name": "stdout",
     "output_type": "stream",
     "text": [
      "['result']\n",
      "('New booking updated.',)\n"
     ]
    }
   ],
   "source": [
    "results = next(cursor.stored_results())\n",
    "dataset= results.fetchall()\n",
    "\n",
    "for column_id in cursor.stored_results():\n",
    "    col = [column[0] for column in column_id.description]\n",
    "print(col)\n",
    "for data in dataset:\n",
    "    print(data)"
   ]
  },
  {
   "cell_type": "code",
   "execution_count": 32,
   "id": "9cd0b53c",
   "metadata": {},
   "outputs": [
    {
     "name": "stdout",
     "output_type": "stream",
     "text": [
      "The cursor is closed.\n",
      "MySQL connction is closed.\n"
     ]
    }
   ],
   "source": [
    "# let's close the cursor and the connection\n",
    "if connection.is_connected():\n",
    "    cursor.close()\n",
    "    print(\"The cursor is closed.\")\n",
    "    connection.close()\n",
    "    print(\"MySQL connction is closed.\")\n",
    "else:\n",
    "    print(\"Conneciton is already closed.\")"
   ]
  }
 ],
 "metadata": {
  "kernelspec": {
   "display_name": "Python 3 (ipykernel)",
   "language": "python",
   "name": "python3"
  },
  "language_info": {
   "codemirror_mode": {
    "name": "ipython",
    "version": 3
   },
   "file_extension": ".py",
   "mimetype": "text/x-python",
   "name": "python",
   "nbconvert_exporter": "python",
   "pygments_lexer": "ipython3",
   "version": "3.9.12"
  }
 },
 "nbformat": 4,
 "nbformat_minor": 5
}
