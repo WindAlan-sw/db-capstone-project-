{
 "cells": [
  {
   "cell_type": "code",
   "execution_count": 1,
   "id": "7ec9e80b",
   "metadata": {},
   "outputs": [],
   "source": [
    "import mysql.connector as connector"
   ]
  },
  {
   "cell_type": "code",
   "execution_count": 5,
   "id": "2a94c422",
   "metadata": {},
   "outputs": [],
   "source": [
    "connection=connector.connect(user=\"root\",\n",
    "                             password=pswd,\n",
    "                            db = \"LittleLemonDM\")"
   ]
  },
  {
   "cell_type": "code",
   "execution_count": 6,
   "id": "cd6049ee",
   "metadata": {},
   "outputs": [],
   "source": [
    "cursor = connection.cursor()"
   ]
  },
  {
   "cell_type": "code",
   "execution_count": 7,
   "id": "79853165",
   "metadata": {},
   "outputs": [],
   "source": [
    "show_tables_query = \"SHOW tables\" \n",
    "cursor.execute(show_tables_query)"
   ]
  },
  {
   "cell_type": "code",
   "execution_count": 8,
   "id": "47272567",
   "metadata": {},
   "outputs": [
    {
     "name": "stdout",
     "output_type": "stream",
     "text": [
      "('Bookings',)\n",
      "('Customers',)\n",
      "('Delivery',)\n",
      "('Employees',)\n",
      "('Menu',)\n",
      "('Orders',)\n",
      "('ordersview',)\n"
     ]
    }
   ],
   "source": [
    "results=cursor.fetchall()\n",
    "for i in results:\n",
    "    print(i)"
   ]
  }
 ],
 "metadata": {
  "kernelspec": {
   "display_name": "Python 3 (ipykernel)",
   "language": "python",
   "name": "python3"
  },
  "language_info": {
   "codemirror_mode": {
    "name": "ipython",
    "version": 3
   },
   "file_extension": ".py",
   "mimetype": "text/x-python",
   "name": "python",
   "nbconvert_exporter": "python",
   "pygments_lexer": "ipython3",
   "version": "3.9.12"
  }
 },
 "nbformat": 4,
 "nbformat_minor": 5
}
